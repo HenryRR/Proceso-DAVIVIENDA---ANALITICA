{
  "cells": [
    {
      "cell_type": "markdown",
      "source": [
        "<p><img alt=\"Colaboratory logo\" height=\"65px\" src=\"https://upload.wikimedia.org/wikipedia/en/thumb/b/b1/Davivienda_logo.svg/1200px-Davivienda_logo.svg.png\" align=\"left\" hspace=\"10px\" width=\"20%\" vspace=\"15px\"></p>\n",
        "\n",
        "<h1 align=\"center\"> Prueba Técnica Profesional III Departamento de Datos no Estructurados  </h1>"
      ],
      "metadata": {
        "id": "EjgAC5z4VMM0"
      }
    },
    {
      "cell_type": "markdown",
      "source": [
        "<p style=»text-align: justify;»>\n",
        "El Departamento de Analítica No estructurada busca profesionales con fuertes capacidades técnicas y sobretodo una fuerte capacidad analítica. Por consiguiente esta prueba intenta poner a prueba la forma en la que plantea y soluciona problemas. Es importante que presente el código que usa para resolver el problema con el único motivo de medir sus capacidades.\n",
        "\n",
        "Se recomienda que sea ordenado en su código y siga los lineamientos establecidos, aún así la prueba tiene un grado de flexibilidad. Se evaluará el orden y la creatividad a la hora de presentar la información. \n",
        "</p>\n",
        "\n",
        "\n",
        "**Nota** <br>\n",
        "Tenga en cuneta que éste ejercicio es hipotético y el banco no usará su trabajo más que para evaluar sus habilidades para el cargo\n"
      ],
      "metadata": {
        "id": "eS5xa7_rVX7Y"
      }
    },
    {
      "cell_type": "markdown",
      "source": [
        "#### **Objetivo**\n",
        "El objetivo de esta prueba es lograr un filtro que discrimine automáticamente un tipo de documento sin información relevante: páginas en blanco. Se busca que este filtro reciba como entrada una carpeta con imágenes de documentos diversos y produzca como salida dos carpetas, una con imágenes de páginas en blanco y otra con imágenes de páginas con contenido.\n",
        "\n",
        "Páginas con solo el membrete del documento se consideran páginas en blanco, así como las que, al momento de ser escaneadas, alcanzan a reflejar contenido ininteligible del reverso de la página."
      ],
      "metadata": {
        "id": "E2u05pYQVf7X"
      }
    },
    {
      "cell_type": "markdown",
      "source": [
        "## Clasificación de Imágenes"
      ],
      "metadata": {
        "id": "ghNr1xfEVlqv"
      }
    },
    {
      "cell_type": "markdown",
      "source": [
        "### 1.Importe las imágenes\n",
        "En la carpeta adjunta se encontrará con documentos tanto en blanco como con contenido. Su objetivo es generar un modelo que clasifique los elementos en \"Con Contenido\" y \"Sin Contenido\". Para eso puede utilizar reglas o modelos específicos."
      ],
      "metadata": {
        "id": "6FtInMvcVp_T"
      }
    },
    {
      "cell_type": "markdown",
      "source": [
        "**_Solución:_**\n",
        "\n",
        "Se cargaron las carpetas fuente suministradas por la entidad a un repositorio Github para el posterior desarrollo del ejercicio. \n",
        "\n",
        "La carga de la información a Colab se realizó con la siguiente instrucción:"
      ],
      "metadata": {
        "id": "sr1niSbGVt8_"
      }
    },
    {
      "cell_type": "code",
      "execution_count": null,
      "metadata": {
        "colab": {
          "base_uri": "https://localhost:8080/"
        },
        "id": "6eSifzDF-ia9",
        "outputId": "3d9c9b6c-d6f5-420c-9a06-e0f5e4d90931"
      },
      "outputs": [
        {
          "output_type": "stream",
          "name": "stdout",
          "text": [
            "Cloning into 'Prueba-tecnica'...\n",
            "remote: Enumerating objects: 274, done.\u001b[K\n",
            "remote: Counting objects: 100% (5/5), done.\u001b[K\n",
            "remote: Compressing objects: 100% (5/5), done.\u001b[K\n",
            "remote: Total 274 (delta 0), reused 0 (delta 0), pack-reused 269\u001b[K\n",
            "Receiving objects: 100% (274/274), 203.62 MiB | 36.97 MiB/s, done.\n",
            "Resolving deltas: 100% (3/3), done.\n",
            "Checking out files: 100% (517/517), done.\n"
          ]
        }
      ],
      "source": [
        "! git clone https://github.com/HenryRR/Prueba-tecnica.git"
      ]
    },
    {
      "cell_type": "markdown",
      "source": [
        "### 2. Estructure la información\n",
        "Debido a que las imágenes son archivos separados lo primero que debe hacer es importarlas (recuerde que una imagen es esencialmente un arreglo de vectores), puede estructurarlas a su gusto y marcar de ser necesario aquellas que va usar como test de pruebas. "
      ],
      "metadata": {
        "id": "K8VRyaryXhf6"
      }
    },
    {
      "cell_type": "markdown",
      "source": [
        "**_Solución:_**\n",
        "\n",
        "De las imágenes suministradas se procedió a realizar una agregación aleatoria para contar con los archivos de entrenamiento, prueba y validación, los cuales serán utilizados para el desarrollo del caso.\n",
        "\n",
        "Las imágenes fueron clasificadas en las direcciones relacionadas a continuación:"
      ],
      "metadata": {
        "id": "NGFzlthpXoKT"
      }
    },
    {
      "cell_type": "code",
      "execution_count": null,
      "metadata": {
        "id": "MTp-hf0z-oK5"
      },
      "outputs": [],
      "source": [
        "train_data_dir = \"/content/Prueba-tecnica/Ejercicio_1_Imagenes/Bases/Train\"\n",
        "validation_data_dir = \"/content/Prueba-tecnica/Ejercicio_1_Imagenes/Bases/Test\"\n",
        "valid_data_dir = \"/content/Prueba-tecnica/Ejercicio_1_Imagenes/Bases/Validacion\""
      ]
    },
    {
      "cell_type": "markdown",
      "source": [
        "### 3. Describa su Estrategia de Análisis\n",
        "<p>Tiene libertad en la metodología para la clasificación. Aun así debe describir brevemente como realizará el análisis. Por ejemplo, si usará un modelo en donde requiera clasificar una cantidad pequeña de la data menciónelo o si planea condicionar la clasifiaciones a reglas indique que reglas usará. Además si usa herramientas externas descríbalas y explique. </p>"
      ],
      "metadata": {
        "id": "Y79o2OtvYYZp"
      }
    },
    {
      "cell_type": "markdown",
      "source": [
        "**_Solución:_**\n",
        "\n",
        "Para el desarrollo de este caso se pensó en una solución que presentara resultados óptimos y que no comprometiera demasiado tiempo en su ejecución. Es por esto que se realizó la parametrización de algunas características, para que fueran uniformes y cuya solución fuera expedita.\n",
        "\n",
        "En este sentido, para realizar el pre procesamiento de la información se definió el ancho y la altura de las imágenes que serían objeto de procesamiento y sobre estas se decidió generar imágenes sintéticas que presentaran ligeras variaciones, como por ejemplo ampliación o disminución, rotación o desplazamientos; esto con el fin de lograr un entrenamiento eficaz y obtener mejores resultados en el modelo de clasificación.\n",
        "\n",
        "Para definir el modelo de clasificación a utilizar, se establecieron los parámetros de entrenamiento y se hizo uso de un modelo pre entrenado denominado VGG16 el cual ha presentado resultados sobresalientes en ejercicios de clasificación de imágenes. Razón por la cual consideré interesante ver su aplicación en este desarrollo.\n",
        "\n",
        "Luego de entrenar del modelo con las imágenes fuente suministradas, se realizó una prueba aleatoria para observar el comportamiento y posteriormente se estructuró el modelo para que realice la clasificación de las imágenes en las carpetas “Con contenido” y “Sin contenido” de forma automática.\n",
        "\n",
        "A continuación se presenta el desarrollo:\n"
      ],
      "metadata": {
        "id": "qYYGGukRYcl6"
      }
    },
    {
      "cell_type": "code",
      "execution_count": null,
      "metadata": {
        "id": "Gn86rjfV-Yi4"
      },
      "outputs": [],
      "source": [
        "# Se cargan las librerías que se utilizarán en el desarrollo\n",
        "from keras.models import Sequential, Model\n",
        "from keras.models import load_model\n",
        "import tensorflow as tf\n",
        "from keras.layers import Conv2D, MaxPool2D, Dense, Flatten, Dropout, BatchNormalization, Input\n",
        "from tensorflow.keras.optimizers import Adam\n",
        "from tensorflow.keras.callbacks import TensorBoard\n",
        "from keras.callbacks import TensorBoard, ModelCheckpoint\n",
        "from keras.utils import np_utils\n",
        "import os\n",
        "import numpy as np\n",
        "from keras.preprocessing import image\n",
        "from keras.applications.imagenet_utils import preprocess_input, decode_predictions\n",
        "from keras.applications.vgg16 import VGG16\n",
        "from keras.preprocessing.image import ImageDataGenerator\n",
        "from tensorflow.keras.preprocessing.image import ImageDataGenerator\n",
        "from sklearn.utils import shuffle\n",
        "from sklearn.model_selection import train_test_split\n",
        "import cv2\n",
        "import matplotlib.pyplot as plt\n",
        "%matplotlib inline\n",
        "from sklearn.metrics import confusion_matrix, f1_score, roc_curve, precision_score, recall_score, accuracy_score, roc_auc_score\n",
        "from sklearn import metrics\n",
        "from mlxtend.plotting import plot_confusion_matrix\n"
      ]
    },
    {
      "cell_type": "code",
      "execution_count": null,
      "metadata": {
        "id": "Mso8vMJq-eNe"
      },
      "outputs": [],
      "source": [
        "# Parametrización\n",
        "width_shape = 224   # Ancho de la imagen\n",
        "height_shape = 224  # Altura de la imagen\n",
        "num_classes = 2     # Clases (blanco, documentos)\n",
        "epochs = 15         # Epocas para el entrenamiento de la red neuronal\n",
        "batch_size = 32     # Cantidad de imágenes sintéticas             "
      ]
    },
    {
      "cell_type": "code",
      "execution_count": null,
      "metadata": {
        "colab": {
          "base_uri": "https://localhost:8080/"
        },
        "id": "-1ymZiGT-1Mi",
        "outputId": "f3de5714-c9a8-4144-f60c-1ecb9142332d"
      },
      "outputs": [
        {
          "output_type": "stream",
          "name": "stdout",
          "text": [
            "Found 218 images belonging to 2 classes.\n",
            "Found 29 images belonging to 2 classes.\n"
          ]
        }
      ],
      "source": [
        "# Generación de imágenes sintéticas para optimizar el entrenamiento del modelo\n",
        "\n",
        "# Parámetros para el grupo de imágenes de entrenamiento\n",
        "train_datagen = ImageDataGenerator(  \n",
        "    rotation_range=20,                          #Rotar la imágen\n",
        "    zoom_range=0.2,                             #Zoom de la imágen\n",
        "    width_shift_range=0.1,                      #Desplazamiento horizontal\n",
        "    height_shift_range=0.1,                     #Desplazamiento vertical\n",
        "    horizontal_flip=True,                       #Dar vuelta horizontalmente\n",
        "    vertical_flip=False,                        #Dar vuelta verticalmente\n",
        "    preprocessing_function=preprocess_input)    #Pre procesamiento de Keras\n",
        "\n",
        "# Parámetros para el grupo de imágenes de prueba\n",
        "valid_datagen = ImageDataGenerator(    \n",
        "    rotation_range=20,                          #Rotar la imágen\n",
        "    zoom_range=0.2,                             #Zoom de la imágen\n",
        "    width_shift_range=0.1,                      #Desplazamiento horizontal\n",
        "    height_shift_range=0.1,                     #Desplazamiento vertical\n",
        "    horizontal_flip=True,                       #Dar vuelta horizontalmente\n",
        "    vertical_flip=False,                        #Dar vuelta verticalmente\n",
        "    preprocessing_function=preprocess_input)    #Preprocesamiento de Keras\n",
        "\n",
        "# Generación sintética de imágenes de entrenamiento\n",
        "train_generator = train_datagen.flow_from_directory(        #Aumentación de imágenes para entrenamiento (transformaciones) \n",
        "    train_data_dir,                                         #Dirección de imágenes\n",
        "    target_size=(width_shape, height_shape),                #Dimensiones de imágenes\n",
        "    batch_size=batch_size,                                  #Cantidad de imágenes sintéticas\n",
        "    #save_to_dir='',                                        #No se guardan en el directorio\n",
        "    class_mode='categorical')                               #Clase categórica por que hay 2 clases\n",
        "\n",
        "# Generación sintética de imágenes de prueba\n",
        "validation_generator = valid_datagen.flow_from_directory(   #Aumentación de imágenes para prueba (transformaciones)  \n",
        "    validation_data_dir,                                    #Dirección de imágenes\n",
        "    target_size=(width_shape, height_shape),                #Dimensiones de imágenes\n",
        "    batch_size=batch_size,                                  #Cantidad de imágenes sintéticas\n",
        "    #save_to_dir='',                                        #No se guardan en el directorio\n",
        "    class_mode='categorical')                               #Clase categórica por que hay 2 clases"
      ]
    },
    {
      "cell_type": "code",
      "execution_count": null,
      "metadata": {
        "colab": {
          "base_uri": "https://localhost:8080/"
        },
        "id": "91m4SeTA_LkD",
        "outputId": "bf28e99d-034a-4b9b-abca-2d2f8708d7eb"
      },
      "outputs": [
        {
          "output_type": "stream",
          "name": "stdout",
          "text": [
            "Downloading data from https://storage.googleapis.com/tensorflow/keras-applications/vgg16/vgg16_weights_tf_dim_ordering_tf_kernels.h5\n",
            "553467904/553467096 [==============================] - 3s 0us/step\n",
            "553476096/553467096 [==============================] - 3s 0us/step\n",
            "Model: \"model\"\n",
            "_________________________________________________________________\n",
            " Layer (type)                Output Shape              Param #   \n",
            "=================================================================\n",
            " input_1 (InputLayer)        [(None, 224, 224, 3)]     0         \n",
            "                                                                 \n",
            " block1_conv1 (Conv2D)       (None, 224, 224, 64)      1792      \n",
            "                                                                 \n",
            " block1_conv2 (Conv2D)       (None, 224, 224, 64)      36928     \n",
            "                                                                 \n",
            " block1_pool (MaxPooling2D)  (None, 112, 112, 64)      0         \n",
            "                                                                 \n",
            " block2_conv1 (Conv2D)       (None, 112, 112, 128)     73856     \n",
            "                                                                 \n",
            " block2_conv2 (Conv2D)       (None, 112, 112, 128)     147584    \n",
            "                                                                 \n",
            " block2_pool (MaxPooling2D)  (None, 56, 56, 128)       0         \n",
            "                                                                 \n",
            " block3_conv1 (Conv2D)       (None, 56, 56, 256)       295168    \n",
            "                                                                 \n",
            " block3_conv2 (Conv2D)       (None, 56, 56, 256)       590080    \n",
            "                                                                 \n",
            " block3_conv3 (Conv2D)       (None, 56, 56, 256)       590080    \n",
            "                                                                 \n",
            " block3_pool (MaxPooling2D)  (None, 28, 28, 256)       0         \n",
            "                                                                 \n",
            " block4_conv1 (Conv2D)       (None, 28, 28, 512)       1180160   \n",
            "                                                                 \n",
            " block4_conv2 (Conv2D)       (None, 28, 28, 512)       2359808   \n",
            "                                                                 \n",
            " block4_conv3 (Conv2D)       (None, 28, 28, 512)       2359808   \n",
            "                                                                 \n",
            " block4_pool (MaxPooling2D)  (None, 14, 14, 512)       0         \n",
            "                                                                 \n",
            " block5_conv1 (Conv2D)       (None, 14, 14, 512)       2359808   \n",
            "                                                                 \n",
            " block5_conv2 (Conv2D)       (None, 14, 14, 512)       2359808   \n",
            "                                                                 \n",
            " block5_conv3 (Conv2D)       (None, 14, 14, 512)       2359808   \n",
            "                                                                 \n",
            " block5_pool (MaxPooling2D)  (None, 7, 7, 512)         0         \n",
            "                                                                 \n",
            " flatten (Flatten)           (None, 25088)             0         \n",
            "                                                                 \n",
            " fc1 (Dense)                 (None, 4096)              102764544 \n",
            "                                                                 \n",
            " fc2 (Dense)                 (None, 4096)              16781312  \n",
            "                                                                 \n",
            " output (Dense)              (None, 2)                 8194      \n",
            "                                                                 \n",
            "=================================================================\n",
            "Total params: 134,268,738\n",
            "Trainable params: 8,194\n",
            "Non-trainable params: 134,260,544\n",
            "_________________________________________________________________\n"
          ]
        },
        {
          "output_type": "stream",
          "name": "stderr",
          "text": [
            "/usr/local/lib/python3.7/dist-packages/ipykernel_launcher.py:25: UserWarning: `Model.fit_generator` is deprecated and will be removed in a future version. Please use `Model.fit`, which supports generators.\n"
          ]
        },
        {
          "output_type": "stream",
          "name": "stdout",
          "text": [
            "Epoch 1/15\n",
            "6/6 [==============================] - 100s 16s/step - loss: 0.3419 - accuracy: 0.9140\n",
            "Epoch 2/15\n",
            "6/6 [==============================] - 97s 16s/step - loss: 0.3209 - accuracy: 0.9247\n",
            "Epoch 3/15\n",
            "6/6 [==============================] - 97s 16s/step - loss: 0.3409 - accuracy: 0.9032\n",
            "Epoch 4/15\n",
            "6/6 [==============================] - 99s 16s/step - loss: 0.3266 - accuracy: 0.9115\n",
            "Epoch 5/15\n",
            "6/6 [==============================] - 97s 16s/step - loss: 0.3402 - accuracy: 0.8925\n",
            "Epoch 6/15\n",
            "6/6 [==============================] - 97s 16s/step - loss: 0.3041 - accuracy: 0.9247\n",
            "Epoch 7/15\n",
            "6/6 [==============================] - 97s 16s/step - loss: 0.3059 - accuracy: 0.9086\n",
            "Epoch 8/15\n",
            "6/6 [==============================] - 97s 16s/step - loss: 0.3277 - accuracy: 0.9140\n",
            "Epoch 9/15\n",
            "6/6 [==============================] - 99s 16s/step - loss: 0.3456 - accuracy: 0.8854\n",
            "Epoch 10/15\n",
            "6/6 [==============================] - 97s 16s/step - loss: 0.3384 - accuracy: 0.9032\n",
            "Epoch 11/15\n",
            "6/6 [==============================] - 96s 16s/step - loss: 0.3061 - accuracy: 0.9086\n",
            "Epoch 12/15\n",
            "6/6 [==============================] - 97s 16s/step - loss: 0.3189 - accuracy: 0.9194\n",
            "Epoch 13/15\n",
            "6/6 [==============================] - 97s 16s/step - loss: 0.3266 - accuracy: 0.9032\n",
            "Epoch 14/15\n",
            "6/6 [==============================] - 96s 16s/step - loss: 0.3200 - accuracy: 0.9086\n",
            "Epoch 15/15\n",
            "6/6 [==============================] - 99s 16s/step - loss: 0.2708 - accuracy: 0.9427\n"
          ]
        }
      ],
      "source": [
        "# Modelo de red neuronal VGG16\n",
        "\n",
        "nb_train_samples = 218              #Muestras a entrenar\n",
        "nb_validation_samples = 29          #Muestras a validar\n",
        "\n",
        "image_input = Input(shape=(width_shape, height_shape, 3))\n",
        "\n",
        "model = VGG16(input_tensor=image_input, include_top=True,weights='imagenet')   #Se define el modelo pre entrenado VGG16 con sus parámetros\n",
        "\n",
        "last_layer = model.get_layer('fc2').output                                      #Se selecciona la última capa del modelo\n",
        "out = Dense(num_classes, activation='softmax', name='output')(last_layer)       #Se agrega capa densa que tiene como salida el número de clases\n",
        "custom_vgg_model = Model(image_input, out)                                      #Se da nombre al modelo \n",
        "\n",
        "for layer in custom_vgg_model.layers[:-1]:                                      #Transferencia de aprendizaje (Solo se entrenará la última capa)\n",
        "\tlayer.trainable = False                             \n",
        "    \n",
        "\n",
        "custom_vgg_model.compile(loss='categorical_crossentropy',optimizer='adadelta',metrics=['accuracy'])   #Compila el modelo\n",
        "\n",
        "custom_vgg_model.summary()                                                      #Estructura de la red\n",
        "\n",
        "model_history = custom_vgg_model.fit_generator(                                 #Entrenar el modelo con las imágenes suministradas y con los parámetros definidos previamente\n",
        "    train_generator,\n",
        "    epochs=epochs,\n",
        "    validation_data=validation_generator,\n",
        "    steps_per_epoch=nb_train_samples//batch_size,\n",
        "    validation_steps=nb_validation_samples//batch_size)"
      ]
    },
    {
      "cell_type": "code",
      "execution_count": null,
      "metadata": {
        "id": "9CHnUxVs_O8T"
      },
      "outputs": [],
      "source": [
        "# Se guarda el modelo\n",
        "custom_vgg_model.save(\"model_VGG16.h5\")"
      ]
    },
    {
      "cell_type": "markdown",
      "metadata": {
        "id": "88A3xGbZAEpi"
      },
      "source": [
        "Predicción de un caso particular usando el modelo VGG16"
      ]
    },
    {
      "cell_type": "code",
      "execution_count": null,
      "metadata": {
        "colab": {
          "base_uri": "https://localhost:8080/",
          "height": 265
        },
        "id": "Aw6v04U0_Y4N",
        "outputId": "fb51e1c0-c346-4992-a051-6962d8ac7a94"
      },
      "outputs": [
        {
          "output_type": "stream",
          "name": "stdout",
          "text": [
            "Documento\n"
          ]
        },
        {
          "output_type": "display_data",
          "data": {
            "text/plain": [
              "<Figure size 432x288 with 1 Axes>"
            ],
            "image/png": "[encoded data removed]"
          },
          "metadata": {
            "needs_background": "light"
          }
        }
      ],
      "source": [
        "# Predicción de la clasificación de una imágen\n",
        "\n",
        "names = ['Blaco','Documento']                   #Nombres de las clases\n",
        "\n",
        "modelt = load_model(\"model_VGG16.h5\")           #Cargo el modelo\n",
        "\n",
        "imaget_path = \"/content/Prueba-tecnica/Ejercicio_1_Imagenes/Bases/Test/Documento/page-140.png\"      #Ruta de la imágen de validación\n",
        "imaget_path = cv2.imread(imaget_path)                                                               #Lee la imágen\n",
        "imaget=cv2.resize(imaget_path, (width_shape, height_shape), interpolation = cv2.INTER_AREA)         #Ajusta las dimensiones de la imágen\n",
        "xt = np.asarray(imaget)                                                                             \n",
        "xt=preprocess_input(xt)                         #Pre procesamiento de imágenes    \n",
        "xt = np.expand_dims(xt,axis=0)\n",
        "preds = modelt.predict(xt)                      #Predicción\n",
        "\n",
        "print(names[np.argmax(preds)])                  #Imprime en pantalla la predicción\n",
        "plt.imshow(cv2.cvtColor(np.asarray(imaget),cv2.COLOR_BGR2RGB))\n",
        "plt.axis('off')\n",
        "plt.show()                                      #Muestra la imágen"
      ]
    },
    {
      "cell_type": "code",
      "execution_count": null,
      "metadata": {
        "id": "nuKqHJCrvwQf"
      },
      "outputs": [],
      "source": [
        "# Clasificación automática de imágenes en las carpetas \"Doc_con_contenido\" y \"Doc_sin_contenido\"\n",
        "\n",
        "valid_data_dir = \"/content/Prueba-tecnica/Ejercicio_1_Imagenes/Bases/Validacion\"        #Dirección de la carpeta de validación\n",
        "files_names = os.listdir(valid_data_dir)            #Lista de nombres de los archivos\n",
        "\n",
        "if not os.path.exists('Doc_con_contenido'):         #Crea la carpeta Doc_con_contenido\n",
        "    os.makedirs('Doc_con_contenido')\n",
        "\n",
        "if not os.path.exists('Doc_sin_contenido'):         #Crea la carpeta Doc_sin_contenido\n",
        "    os.makedirs('Doc_sin_contenido')\n",
        "\n",
        "conteo1 = 0         #Conteo\n",
        "conteo2 = 0         \n",
        "\n",
        "for file_name in files_names:                       #Condicional para que recorra las imágenes\n",
        "    #print(file_name)\n",
        "    image_path = valid_data_dir + \"/\" + file_name\n",
        "    image = cv2.imread(image_path)                  #Lee las imágenes\n",
        "\n",
        "    imaget=cv2.resize(image, (width_shape, height_shape), interpolation = cv2.INTER_AREA) #Ajusta las imágenes\n",
        "    xt = np.asarray(imaget)\n",
        "    xt=preprocess_input(xt)                         #Pre procesamiento de imágenes\n",
        "    xt = np.expand_dims(xt,axis=0)\n",
        "    preds = modelt.predict(xt)                      #Predicción\n",
        "    result_valid = names[np.argmax(preds)]          #Nombre de la predicción\n",
        "\n",
        "    if result_valid == \"Documento\":                 #Condición para que guarde la imágen en la carpeta con contenido\n",
        "        cv2.imwrite(\"/content/Doc_con_contenido\" + \"/image\" + str(conteo1) + \".jpg\" , image)\n",
        "        conteo1 += 1\n",
        "    else:                                           #Condición para que guarde la imágen en la carpeta sin contenido\n",
        "        cv2.imwrite(\"/content/Doc_sin_contenido\" + \"/image\" + str(conteo2) + \".jpg\" , image)\n",
        "        conteo2 += 1"
      ]
    },
    {
      "cell_type": "markdown",
      "source": [
        "### 4. Interpretación de Resultados\n",
        "<p>Al final tiene que presentar la información en una matriz que muestre la calidad de su clasificación y evaluarla con la medida que guste. </p>\n",
        "<br>\n",
        "<img src=\"https://www.ecured.cu/images/3/31/Matrices_de_confusi%C3%B3n.png\" >"
      ],
      "metadata": {
        "id": "jf5wiPlclyzI"
      }
    },
    {
      "cell_type": "markdown",
      "source": [
        "**_Solución:_**\n",
        "\n"
      ],
      "metadata": {
        "id": "rijJLYKHl0KT"
      }
    },
    {
      "cell_type": "markdown",
      "metadata": {
        "id": "D6s1tTdq_sjO"
      },
      "source": [
        "MATRIZ DE CONFUSIÓN"
      ]
    },
    {
      "cell_type": "code",
      "execution_count": null,
      "metadata": {
        "colab": {
          "base_uri": "https://localhost:8080/",
          "height": 580
        },
        "id": "r2hVoVgo_rLs",
        "outputId": "1996a296-48e2-466d-e641-4d38bec839ed"
      },
      "outputs": [
        {
          "output_type": "stream",
          "name": "stdout",
          "text": [
            "Found 29 images belonging to 2 classes.\n"
          ]
        },
        {
          "output_type": "stream",
          "name": "stderr",
          "text": [
            "/usr/local/lib/python3.7/dist-packages/ipykernel_launcher.py:18: UserWarning: `Model.predict_generator` is deprecated and will be removed in a future version. Please use `Model.predict`, which supports generators.\n"
          ]
        },
        {
          "output_type": "stream",
          "name": "stdout",
          "text": [
            "              precision    recall  f1-score   support\n",
            "\n",
            "           0     0.7000    0.9333    0.8000        15\n",
            "           1     0.8889    0.5714    0.6957        14\n",
            "\n",
            "    accuracy                         0.7586        29\n",
            "   macro avg     0.7944    0.7524    0.7478        29\n",
            "weighted avg     0.7912    0.7586    0.7496        29\n",
            "\n"
          ]
        },
        {
          "output_type": "display_data",
          "data": {
            "text/plain": [
              "<Figure size 360x360 with 1 Axes>"
            ],
            "image/png": "[encoded data removed]"
          },
          "metadata": {
            "needs_background": "light"
          }
        }
      ],
      "source": [
        "# Matriz de confusión\n",
        "\n",
        "names = ['Blaco','Documento']           #Nombre de las clases\n",
        "\n",
        "test_data_dir = '/content/Prueba-tecnica/Ejercicio_1_Imagenes/Bases/Test'  # Dirección de la carpeta de prueba\n",
        "\n",
        "test_datagen = ImageDataGenerator()         #Llama el generador de imágenes\n",
        "\n",
        "test_generator = test_datagen.flow_from_directory(      #Aumentación de imágenes para validación (transformaciones)\n",
        "    test_data_dir,                                      #Dirección de imágenes de prueba\n",
        "    target_size=(width_shape, height_shape),            #Dimensiones de imágenes\n",
        "    batch_size = batch_size,                            #Cantidad de imágenes transformadas\n",
        "    class_mode='categorical',                           #Clase categórica por que hay 2 clases\n",
        "    shuffle=False)                                      #Guarda el orden del data set\n",
        "\n",
        "custom_Model= load_model(\"model_VGG16.h5\")              #Carga el modelo\n",
        "\n",
        "predictions = custom_Model.predict_generator(generator=test_generator)      #Predicción\n",
        "\n",
        "y_pred = np.argmax(predictions, axis=1)                 #Valor máximo de la predicción\n",
        "y_real = test_generator.classes                         #Valor real\n",
        "\n",
        "\n",
        "matc=confusion_matrix(y_real, y_pred)                   #Constuye la matriz de confusión\n",
        "\n",
        "plot_confusion_matrix(conf_mat=matc, figsize=(5,5), show_normed=False)      #Gráfica\n",
        "plt.tight_layout()\n",
        "\n",
        "print(metrics.classification_report(y_real,y_pred, digits = 4)) #Presenta las métricas"
      ]
    },
    {
      "cell_type": "markdown",
      "source": [
        "De las métricas presentadas se puede decir que el modelo no se encuentra sobre ajustado, además el modelo presenta una precisión del 76% en la clasificación de las imágenes, lo cual se podría considerar como una predicción aceptable, pero con oportunidad de mejora.\n",
        "\n",
        "De la matriz de confusión se puede interpretar que el 93% es clasificado como verdaderos positivos, mientras que el 57% son verdaderos negativos; esto genera una distorsión en cuanto a los falsos positivos y sería una oportunidad de mejora considerando mayor cantidad de información para el entrenamiento del modelo.\n"
      ],
      "metadata": {
        "id": "CIdmJkNTmTme"
      }
    },
    {
      "cell_type": "markdown",
      "source": [
        "## **Conclusiones:**\n",
        "\n",
        "\n",
        "1.\tEl uso del modelo pre entrenado VGG16 presentó resultados aceptables.\n",
        "2.\tLa precisión del modelo de clasificación es de 76%.\n",
        "3.\tEl modelo no está sobre ajustado.\n",
        "4.\tEl modelo se podría optimizar si se toma mayor información en el entrenamiento o se incrementa el número de épocas.\n",
        "5.\tExisten otros modelos pre entrenados como VGG19 o Mobilenet   los cuales en ejercicios posteriores sería interesante ponerlos en producción para evaluar sus resultados.\n",
        "6.  Se podría construir un modelo de clasificación partiendo de cero, pero el entrenamiento podría tardar mucho tiempo dado que se debería contar con gran cantidad de información para lograr resultados óptimos. \n"
      ],
      "metadata": {
        "id": "Bg6bf5SaoLkb"
      }
    }
  ],
  "metadata": {
    "colab": {
      "collapsed_sections": [],
      "name": "Prueba_Clasificacion_imagenes.ipynb",
      "provenance": []
    },
    "kernelspec": {
      "display_name": "Python 3",
      "name": "python3"
    },
    "language_info": {
      "name": "python"
    }
  },
  "nbformat": 4,
  "nbformat_minor": 0
}